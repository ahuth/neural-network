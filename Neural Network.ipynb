{
 "cells": [
  {
   "cell_type": "markdown",
   "metadata": {},
   "source": [
    "# Neural Network\n",
    "\n",
    "Let's try to \"learn\" the \"exclusive or\" function. Unlike \"and\" or \"or\", it cannot be learned by a single neuron/perceptron, because it is not linearly seperable."
   ]
  },
  {
   "cell_type": "code",
   "execution_count": 1,
   "metadata": {},
   "outputs": [],
   "source": [
    "import numpy as np"
   ]
  },
  {
   "cell_type": "markdown",
   "metadata": {},
   "source": [
    "For two inputs, xor is true when one of them is true, and false otherwise."
   ]
  },
  {
   "cell_type": "code",
   "execution_count": 2,
   "metadata": {},
   "outputs": [],
   "source": [
    "training_inputs = np.array([\n",
    "    [1, 1],\n",
    "    [1, 0],\n",
    "    [0, 1],\n",
    "    [0, 0]\n",
    "])\n",
    "\n",
    "training_labels = np.array([0, 1, 1, 0])"
   ]
  },
  {
   "cell_type": "code",
   "execution_count": 3,
   "metadata": {},
   "outputs": [],
   "source": [
    "def model(inputs, labels, learning_rate, iterations):\n",
    "    parameters = init_params([2, 3, 1])\n",
    "    return parameters"
   ]
  },
  {
   "cell_type": "code",
   "execution_count": 4,
   "metadata": {},
   "outputs": [],
   "source": [
    "def init_params(layer_dimensions):\n",
    "    num_layers = layer_dimensions\n",
    "    layers_needing_weights = range(1, len(num_layers))\n",
    "    \n",
    "    connecting_weights = [init_weights(layer_dimensions[l], layer_dimensions[l - 1]) for l in layers_needing_weights]\n",
    "    biases = [np.zeros((layer_dimensions[l], 1)) for l in layers_needing_weights]\n",
    "    \n",
    "    parameters = {\n",
    "        'weights': connecting_weights,\n",
    "        'biases': biases\n",
    "    }\n",
    "        \n",
    "    return parameters"
   ]
  },
  {
   "cell_type": "code",
   "execution_count": 5,
   "metadata": {},
   "outputs": [],
   "source": [
    "def init_weights(to_dimensions, from_dimensions):\n",
    "    return np.random.randn(to_dimensions, from_dimensions)"
   ]
  },
  {
   "cell_type": "code",
   "execution_count": 6,
   "metadata": {},
   "outputs": [
    {
     "name": "stdout",
     "output_type": "stream",
     "text": [
      "{'weights': [array([[-0.90933936, -2.14752626],\n",
      "       [-1.48456353, -0.94871688],\n",
      "       [-0.56848645,  1.02979642]]), array([[-0.10144614, -0.34277854, -2.28218976]])], 'biases': [array([[0.],\n",
      "       [0.],\n",
      "       [0.]]), array([[0.]])]}\n"
     ]
    }
   ],
   "source": [
    "parameters = model(training_inputs, training_labels, 0.25, 100)\n",
    "print(parameters)"
   ]
  }
 ],
 "metadata": {
  "kernelspec": {
   "display_name": "Python 3",
   "language": "python",
   "name": "python3"
  },
  "language_info": {
   "codemirror_mode": {
    "name": "ipython",
    "version": 3
   },
   "file_extension": ".py",
   "mimetype": "text/x-python",
   "name": "python",
   "nbconvert_exporter": "python",
   "pygments_lexer": "ipython3",
   "version": "3.7.2"
  }
 },
 "nbformat": 4,
 "nbformat_minor": 2
}
