{
 "cells": [
  {
   "cell_type": "markdown",
   "metadata": {},
   "source": [
    "# Neural Network\n",
    "\n",
    "Let's try to \"learn\" the \"exclusive or\" function. Unlike \"and\" or \"or\", it cannot be learned by a single neuron/perceptron, because it is not linearly seperable."
   ]
  },
  {
   "cell_type": "code",
   "execution_count": 1,
   "metadata": {},
   "outputs": [],
   "source": [
    "import numpy as np"
   ]
  },
  {
   "cell_type": "markdown",
   "metadata": {},
   "source": [
    "For two inputs, xor is true when one of them is true, and false otherwise."
   ]
  },
  {
   "cell_type": "code",
   "execution_count": 2,
   "metadata": {},
   "outputs": [],
   "source": [
    "training_inputs = [\n",
    "    [1, 1],\n",
    "    [1, 0],\n",
    "    [0, 1],\n",
    "    [0, 0]\n",
    "]\n",
    "\n",
    "training_labels = [0, 1, 1, 0]"
   ]
  },
  {
   "cell_type": "markdown",
   "metadata": {},
   "source": [
    "Our main \"model\". This is the highest-level function here, and will handle:\n",
    "- Initializing our weights and biases\n",
    "- Running forward propagation\n",
    "- Running backward propagation\n",
    "- Returning the final weights and biases"
   ]
  },
  {
   "cell_type": "code",
   "execution_count": 3,
   "metadata": {},
   "outputs": [],
   "source": [
    "def model(inputs, labels, learning_rate, iterations):\n",
    "    parameters = init_params(2, 3, 1)\n",
    "    return parameters"
   ]
  },
  {
   "cell_type": "markdown",
   "metadata": {},
   "source": [
    "Initialize our weights and biases. There are a couple interesting things to note here.\n",
    "\n",
    "First, the input layer doesn't have weights or biases. So if we have a 3-layer network (input, one hidden, and the output), we end up with only two sets of weights/biases.\n",
    "\n",
    "Second, the number of weights for a layer is the connections between the _previous_ layer and the _current_ one. So if there are 2 inputs and 3 hidden nodes, we have 2 * 3 - or 6 - connections and therefore weights between them."
   ]
  },
  {
   "cell_type": "code",
   "execution_count": 4,
   "metadata": {},
   "outputs": [],
   "source": [
    "def init_params(*layer_dimensions):\n",
    "    num_layers = len(layer_dimensions)\n",
    "    weights = []\n",
    "    biases = []\n",
    "    \n",
    "    # As discussed above, we end up with `num_layers - 1` sets of weights and biases.\n",
    "    for l in range(1, num_layers):\n",
    "        # The number of weights for this layer is the product of the current layer's node count and the previous's.\n",
    "        w = np.random.randn(layer_dimensions[l], layer_dimensions[l - 1])\n",
    "        weights.append(w)\n",
    "        \n",
    "        # The number of biases for this layer is just the number of nodes.\n",
    "        b = np.zeros((layer_dimensions[l], 1))\n",
    "        biases.append(b)\n",
    "        \n",
    "    return {\n",
    "        'weights': weights,\n",
    "        'biases': biases\n",
    "    }"
   ]
  },
  {
   "cell_type": "markdown",
   "metadata": {},
   "source": [
    "We're finally ready to train our model!"
   ]
  },
  {
   "cell_type": "code",
   "execution_count": 5,
   "metadata": {},
   "outputs": [
    {
     "name": "stdout",
     "output_type": "stream",
     "text": [
      "{'weights': [array([[ 0.5449696 , -0.83516474],\n",
      "       [-1.13719156,  0.6335984 ],\n",
      "       [ 0.48966125,  1.22395043]]), array([[-0.73619146, -0.65498139, -0.992265  ]])], 'biases': [array([[0.],\n",
      "       [0.],\n",
      "       [0.]]), array([[0.]])]}\n"
     ]
    }
   ],
   "source": [
    "parameters = model(training_inputs, training_labels, 0.25, 100)\n",
    "print(parameters)"
   ]
  }
 ],
 "metadata": {
  "kernelspec": {
   "display_name": "Python 3",
   "language": "python",
   "name": "python3"
  },
  "language_info": {
   "codemirror_mode": {
    "name": "ipython",
    "version": 3
   },
   "file_extension": ".py",
   "mimetype": "text/x-python",
   "name": "python",
   "nbconvert_exporter": "python",
   "pygments_lexer": "ipython3",
   "version": "3.7.2"
  }
 },
 "nbformat": 4,
 "nbformat_minor": 2
}
